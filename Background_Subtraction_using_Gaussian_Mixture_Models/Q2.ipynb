{
  "cells": [
    {
      "cell_type": "markdown",
      "id": "518efe1c-da13-465c-b62a-0e38ae6f110c",
      "metadata": {
        "tags": [],
        "id": "518efe1c-da13-465c-b62a-0e38ae6f110c"
      },
      "source": [
        "# SMAI Assignment - 2\n",
        "\n",
        "## Question 2: Gaussian Mixture Models\n",
        "\n",
        "Resources:\n",
        "- https://youtu.be/qMTuMa86NzU\n",
        "- https://youtu.be/ZBLyXgjBx3Q\n",
        "\n",
        "Reference: https://scikit-learn.org/stable/modules/mixture.html"
      ]
    },
    {
      "cell_type": "code",
      "source": [
        "!pip install gdown\n",
        "!gdown 'https://drive.google.com/uc?id=191ap4cT6K0Yhe8k2IRN7fnd7tOELolBp'\n",
        "!unzip 'SMAI_A2_2024.zip'\n",
        "!mv SMAI_A2_2024/* ./\n",
        "!rm -r SMAI_A2_2024\n",
        "!rm SMAI_A2_2024.zip\n",
        "\n",
        "\n",
        "\n"
      ],
      "metadata": {
        "colab": {
          "base_uri": "https://localhost:8080/"
        },
        "id": "WEpG8x5xpxbw",
        "outputId": "d1428d7a-d61e-47c7-cfda-62046ce3871d"
      },
      "id": "WEpG8x5xpxbw",
      "execution_count": null,
      "outputs": [
        {
          "output_type": "stream",
          "name": "stdout",
          "text": [
            "Requirement already satisfied: gdown in /usr/local/lib/python3.10/dist-packages (4.7.3)\n",
            "Requirement already satisfied: filelock in /usr/local/lib/python3.10/dist-packages (from gdown) (3.13.3)\n",
            "Requirement already satisfied: requests[socks] in /usr/local/lib/python3.10/dist-packages (from gdown) (2.31.0)\n",
            "Requirement already satisfied: six in /usr/local/lib/python3.10/dist-packages (from gdown) (1.16.0)\n",
            "Requirement already satisfied: tqdm in /usr/local/lib/python3.10/dist-packages (from gdown) (4.66.2)\n",
            "Requirement already satisfied: beautifulsoup4 in /usr/local/lib/python3.10/dist-packages (from gdown) (4.12.3)\n",
            "Requirement already satisfied: soupsieve>1.2 in /usr/local/lib/python3.10/dist-packages (from beautifulsoup4->gdown) (2.5)\n",
            "Requirement already satisfied: charset-normalizer<4,>=2 in /usr/local/lib/python3.10/dist-packages (from requests[socks]->gdown) (3.3.2)\n",
            "Requirement already satisfied: idna<4,>=2.5 in /usr/local/lib/python3.10/dist-packages (from requests[socks]->gdown) (3.6)\n",
            "Requirement already satisfied: urllib3<3,>=1.21.1 in /usr/local/lib/python3.10/dist-packages (from requests[socks]->gdown) (2.0.7)\n",
            "Requirement already satisfied: certifi>=2017.4.17 in /usr/local/lib/python3.10/dist-packages (from requests[socks]->gdown) (2024.2.2)\n",
            "Requirement already satisfied: PySocks!=1.5.7,>=1.5.6 in /usr/local/lib/python3.10/dist-packages (from requests[socks]->gdown) (1.7.1)\n",
            "Downloading...\n",
            "From (original): https://drive.google.com/uc?id=191ap4cT6K0Yhe8k2IRN7fnd7tOELolBp\n",
            "From (redirected): https://drive.google.com/uc?id=191ap4cT6K0Yhe8k2IRN7fnd7tOELolBp&confirm=t&uuid=2b98b8c0-14ce-4b77-a6c0-5c63505e1c86\n",
            "To: /content/SMAI_A2_2024.zip\n",
            "100% 119M/119M [00:00<00:00, 124MB/s]\n",
            "Archive:  SMAI_A2_2024.zip\n",
            "   creating: SMAI_A2_2024/\n",
            "  inflating: SMAI_A2_2024/train_test_index.pickle  \n",
            "  inflating: SMAI_A2_2024/training_3digits.hdf5  \n",
            "  inflating: SMAI_A2_2024/testing_3digits_part2.hdf5  \n",
            "  inflating: SMAI_A2_2024/testing_3digits_part1.hdf5  \n",
            "  inflating: SMAI_A2_2024/product_reviews.csv  \n",
            "  inflating: SMAI_A2_2024/roberta_embeds.npy.gz  \n"
          ]
        }
      ]
    },
    {
      "cell_type": "code",
      "source": [
        "\n",
        "!gdown 'https://drive.google.com/uc?id=1TM2ccUlN0WxnI9n4I2TiTOq7BSPA85Z-'\n",
        "!unzip 'content.zip'\n",
        "!mv content/* ./\n",
        "!rm -r content\n",
        "!rm content.zip"
      ],
      "metadata": {
        "colab": {
          "base_uri": "https://localhost:8080/"
        },
        "id": "8_Y1-C-xsZKv",
        "outputId": "d4fed9be-2b32-4fdb-9bf2-3c9337c39ed5"
      },
      "id": "8_Y1-C-xsZKv",
      "execution_count": null,
      "outputs": [
        {
          "output_type": "stream",
          "name": "stdout",
          "text": [
            "Downloading...\n",
            "From: https://drive.google.com/uc?id=1TM2ccUlN0WxnI9n4I2TiTOq7BSPA85Z-\n",
            "To: /content/content.zip\n",
            "\r  0% 0.00/720k [00:00<?, ?B/s]\r100% 720k/720k [00:00<00:00, 9.98MB/s]\n",
            "Archive:  content.zip\n",
            "   creating: content/\n",
            "   creating: content/frames/\n",
            "   creating: content/results/\n",
            "   creating: content/videos/\n",
            "  inflating: content/videos/traffic.gif  \n"
          ]
        }
      ]
    },
    {
      "cell_type": "code",
      "execution_count": null,
      "id": "a1e7d9be-241c-4e93-aefe-36d5ffddb4df",
      "metadata": {
        "execution": {
          "iopub.execute_input": "2023-03-08T11:21:25.323288Z",
          "iopub.status.busy": "2023-03-08T11:21:25.322925Z",
          "iopub.status.idle": "2023-03-08T11:21:26.039733Z",
          "shell.execute_reply": "2023-03-08T11:21:26.039124Z",
          "shell.execute_reply.started": "2023-03-08T11:21:25.323265Z"
        },
        "tags": [],
        "id": "a1e7d9be-241c-4e93-aefe-36d5ffddb4df"
      },
      "outputs": [],
      "source": [
        "import os\n",
        "import numpy as np\n",
        "import matplotlib.pyplot as plt\n",
        "%matplotlib inline\n",
        "\n",
        "import cv2"
      ]
    },
    {
      "cell_type": "code",
      "source": [
        "\n",
        "\n",
        "from google.colab.patches import cv2_imshow\n",
        "\n",
        "\n"
      ],
      "metadata": {
        "id": "e8srgEduzn_p"
      },
      "id": "e8srgEduzn_p",
      "execution_count": null,
      "outputs": []
    },
    {
      "cell_type": "markdown",
      "id": "71a78b0c-256b-4b46-b925-d69e455e3d76",
      "metadata": {
        "id": "71a78b0c-256b-4b46-b925-d69e455e3d76"
      },
      "source": [
        "### Part 1: Gaussian Mixture Models\n",
        "\n",
        "We'll attempt to solve the task of background subtraction using Gaussian Mixture Models. Before that, you will need to implement the Gaussian Mixture Model algorithm from scratch.\n",
        "\n",
        "Some details:\n",
        "- Try to implement GMMs using Multi-variate Gaussian Distributions, the following tasks in the assignment are possible to implement using the Univariate version too but it might be bit inaccurate as explained below.\n",
        "    - To clarify further, we could treat each pixel in our RGB image as our data point with [R, G, B] channels as the dimensions to the Multi-variate data point, and we would easily get predictions for each pixel location using Multi-variate approach.\n",
        "    - Or, we could treat every single value in the given RGB image as a data point independent of what channel the belong to and consider them as Uni-variate data point, and get prediction using the Uni-variate approach.\n",
        "    But this affects our prediction, since we can't simply make per pixel predtions anymore, because for every pixel location we would now have 3 different predictions.\n",
        "    - To get around this, you could convert your image to Grayscale and then we would only have one channel/value corresponding to each pixel location, which would now allow us to use the Uni-variate approach for prediction, but this also means loss in information which would affect our quality of predictions.\n",
        "    - Try to have a class based implementation of GMM, this would really help you in Background Subtraction task. You can get some general ideas on how to structure your class by looking at `sklearn.mixture.GaussianMixture` documentation and source code.\n",
        "- The following code cell has a rough template to get you started with the implementation. You are free to change the structure of the code, this is just a suggestion to help you get started.\n",
        "\n",
        "\n",
        "TLDR: You may implement the univariate version of GMMs, but it might not be as accurate as the multivariate version and it is recommended to try and implement the multivariate version."
      ]
    },
    {
      "cell_type": "code",
      "execution_count": null,
      "id": "4c8b4171-3b73-4e4b-b123-29b20235002e",
      "metadata": {
        "tags": [],
        "id": "4c8b4171-3b73-4e4b-b123-29b20235002e"
      },
      "outputs": [],
      "source": [
        "import numpy as np\n",
        "\n",
        "class GaussianMixture2:\n",
        "    def __init__(self, n_components=1, covariance_type='full', random_state=None, max_iter=100, tol=1e-3):\n",
        "        self.n_components = n_components\n",
        "        self.covariance_type = covariance_type\n",
        "        self.random_state = random_state\n",
        "        self.max_iter = max_iter\n",
        "        self.tol = tol\n",
        "\n",
        "        if covariance_type not in ['full', 'diag']:\n",
        "            raise ValueError(\"covariance_type must be 'full' or 'diag'\")\n",
        "\n",
        "    def _initialize_parameters(self, X):\n",
        "        np.random.seed(self.random_state)\n",
        "        n_samples, n_features = X.shape\n",
        "\n",
        "        self.weights_ = np.full(self.n_components, 1.0 / self.n_components)\n",
        "        self.means_ = X[np.random.choice(n_samples, self.n_components, replace=False)]\n",
        "\n",
        "        if self.covariance_type == 'full':\n",
        "            self.covariances_ = np.array([np.cov(X.T) for _ in range(self.n_components)])\n",
        "        elif self.covariance_type == 'diag':\n",
        "            self.covariances_ = np.array([np.diag(np.var(X, axis=0)) for _ in range(self.n_components)])\n",
        "\n",
        "    def _e_step(self, X):\n",
        "        n_samples, _ = X.shape\n",
        "        self.posteriors_ = np.zeros((n_samples, self.n_components))\n",
        "\n",
        "        for k in range(self.n_components):\n",
        "            self.posteriors_[:, k] = self.weights_[k] * self._multivariate_normal(X, self.means_[k], self.covariances_[k])\n",
        "\n",
        "        self.posteriors_ /= np.sum(self.posteriors_, axis=1, keepdims=True)\n",
        "\n",
        "    def _m_step(self, X):\n",
        "        n_samples, _ = X.shape\n",
        "\n",
        "        for k in range(self.n_components):\n",
        "            weight_sum = np.sum(self.posteriors_[:, k], axis=0)\n",
        "            self.weights_[k] = weight_sum / n_samples\n",
        "            self.means_[k] = np.sum(X * self.posteriors_[:, k][:, np.newaxis], axis=0) / weight_sum\n",
        "\n",
        "            if self.covariance_type == 'full':\n",
        "                cov = (X - self.means_[k]).T @ (X - self.means_[k]) / weight_sum\n",
        "                self.covariances_[k] = cov + self.tol * np.eye(X.shape[1])\n",
        "            elif self.covariance_type == 'diag':\n",
        "                cov = np.diag(np.sum(self.posteriors_[:, k] * np.square(X - self.means_[k]), axis=0) / weight_sum)\n",
        "                self.covariances_[k] = cov + self.tol\n",
        "\n",
        "    def _multivariate_normal(self, X, mean, covariance):\n",
        "        n_features = X.shape[1]\n",
        "        det = np.linalg.det(covariance)\n",
        "        norm_const = 1.0 / ((2 * np.pi) ** (n_features / 2) * np.sqrt(det + self.tol))\n",
        "        inv_cov = np.linalg.pinv(covariance)\n",
        "        exp = np.exp(-0.5 * np.sum((X - mean) @ inv_cov * (X - mean), axis=1))\n",
        "        return norm_const * exp\n",
        "\n",
        "    def fit(self, X):\n",
        "        self._initialize_parameters(X)\n",
        "\n",
        "        for _ in range(self.max_iter):\n",
        "            prev_weights = np.copy(self.weights_)\n",
        "            prev_means = np.copy(self.means_)\n",
        "            prev_covariances = np.copy(self.covariances_)\n",
        "\n",
        "            self._e_step(X)\n",
        "            self._m_step(X)\n",
        "\n",
        "            diff_weights = np.linalg.norm(self.weights_ - prev_weights)\n",
        "            diff_means = np.linalg.norm(self.means_ - prev_means)\n",
        "            diff_covariances = np.linalg.norm(self.covariances_ - prev_covariances)\n",
        "\n",
        "            if diff_weights < self.tol and diff_means < self.tol and diff_covariances < self.tol:\n",
        "                break\n",
        "\n",
        "    def predict(self, X):\n",
        "        n_samples, _ = X.shape\n",
        "        posteriors = np.zeros((n_samples, self.n_components))\n",
        "\n",
        "        for k in range(self.n_components):\n",
        "            posteriors[:, k] = self.weights_[k] * self._multivariate_normal(X, self.means_[k], self.covariances_[k])\n",
        "\n",
        "        return np.argmax(posteriors, axis=1)\n"
      ]
    },
    {
      "cell_type": "markdown",
      "id": "535a6266-8fe6-4b8a-8f40-5e0e3c8721c8",
      "metadata": {
        "jp-MarkdownHeadingCollapsed": true,
        "tags": [],
        "id": "535a6266-8fe6-4b8a-8f40-5e0e3c8721c8"
      },
      "source": [
        "### Part 2: Background Subtraction\n",
        "\n",
        "![traffic](./videos/traffic.gif)\n",
        "\n",
        "In this question, you are required to extract the background image from a given set of training frames, and use the extracted background to display foreground objects in the test frames by subtracting that background image and then thresholding it accordingly.\n",
        "\n",
        "In this question, we are going to try different baselines to extract background from low resolution camera footage:\n",
        "\n",
        "1. Frame Averaging:\n",
        "    - Just take the average of every training frame, which gives us an approximate background image.\n",
        "    \n",
        "2. GMM Per Pixel:\n",
        "    - We will maintain per pixel GMMs of 2 components, and then fit these GMMs considering every training from for its corresponding pixel.\n",
        "    - And then use these GMMs to predict the pixel labels for every subsequent frame.\n",
        "    - Most of the time, the Gaussian with the higher weight corresponds to the background.\n",
        "    - We can implement this in a simpler way but with worse prediction results, you can extract a mean background image similar to the first baseline above.\n",
        "    - To extract the Mean background image, we can assign values of the Means corresponding to the highest weighted Gaussian for each pixel.\n",
        "    - This method is much simpler to implement but, this could give worse results."
      ]
    },
    {
      "cell_type": "markdown",
      "id": "7a05a728-7e46-4875-8202-a2f4c15474ef",
      "metadata": {
        "jp-MarkdownHeadingCollapsed": true,
        "tags": [],
        "id": "7a05a728-7e46-4875-8202-a2f4c15474ef"
      },
      "source": [
        "#### Extracting Frames from videos"
      ]
    },
    {
      "cell_type": "code",
      "execution_count": null,
      "id": "4bce85da-089c-49cb-a145-262f888e16a6",
      "metadata": {
        "execution": {
          "iopub.execute_input": "2023-03-08T04:08:37.130369Z",
          "iopub.status.busy": "2023-03-08T04:08:37.129961Z",
          "iopub.status.idle": "2023-03-08T04:08:37.135022Z",
          "shell.execute_reply": "2023-03-08T04:08:37.133398Z",
          "shell.execute_reply.started": "2023-03-08T04:08:37.130341Z"
        },
        "id": "4bce85da-089c-49cb-a145-262f888e16a6"
      },
      "outputs": [],
      "source": [
        "source_folder = 'videos'\n",
        "video = 'traffic.gif'\n",
        "\n",
        "source_path = f'./{source_folder}/{video}'"
      ]
    },
    {
      "cell_type": "code",
      "execution_count": null,
      "id": "26ff69e5-55c6-4351-ba5c-4f09f1affe4c",
      "metadata": {
        "execution": {
          "iopub.execute_input": "2023-03-08T04:08:37.136732Z",
          "iopub.status.busy": "2023-03-08T04:08:37.136360Z",
          "iopub.status.idle": "2023-03-08T04:08:37.141945Z",
          "shell.execute_reply": "2023-03-08T04:08:37.140639Z",
          "shell.execute_reply.started": "2023-03-08T04:08:37.136693Z"
        },
        "tags": [],
        "id": "26ff69e5-55c6-4351-ba5c-4f09f1affe4c"
      },
      "outputs": [],
      "source": [
        "data_folder = 'frames'\n",
        "\n",
        "frames_path = f\"./{data_folder}/{video.rsplit('.', 1)[0]}\""
      ]
    },
    {
      "cell_type": "code",
      "execution_count": null,
      "id": "ec1404b3-0318-4d1d-a4f8-cd1ad32c312c",
      "metadata": {
        "execution": {
          "iopub.execute_input": "2023-03-08T04:08:37.143793Z",
          "iopub.status.busy": "2023-03-08T04:08:37.143330Z",
          "iopub.status.idle": "2023-03-08T04:08:37.276702Z",
          "shell.execute_reply": "2023-03-08T04:08:37.275738Z",
          "shell.execute_reply.started": "2023-03-08T04:08:37.143758Z"
        },
        "id": "ec1404b3-0318-4d1d-a4f8-cd1ad32c312c"
      },
      "outputs": [],
      "source": [
        "%%capture\n",
        "\n",
        "!mkdir -p {frames_path} > /dev/null ;"
      ]
    },
    {
      "cell_type": "code",
      "execution_count": null,
      "id": "dc493fa5-d2fb-4354-8eec-aa3daa3e3804",
      "metadata": {
        "execution": {
          "iopub.execute_input": "2023-03-08T04:08:37.278274Z",
          "iopub.status.busy": "2023-03-08T04:08:37.277897Z",
          "iopub.status.idle": "2023-03-08T04:08:37.518249Z",
          "shell.execute_reply": "2023-03-08T04:08:37.517372Z",
          "shell.execute_reply.started": "2023-03-08T04:08:37.278239Z"
        },
        "id": "dc493fa5-d2fb-4354-8eec-aa3daa3e3804"
      },
      "outputs": [],
      "source": [
        "%%capture\n",
        "\n",
        "!ffmpeg -i {source_path} {frames_path}/'frame_%04d.png' > /dev/null ;"
      ]
    },
    {
      "cell_type": "markdown",
      "id": "e121347b-6089-4cf0-bc6e-1a341a48c397",
      "metadata": {
        "jp-MarkdownHeadingCollapsed": true,
        "tags": [],
        "id": "e121347b-6089-4cf0-bc6e-1a341a48c397"
      },
      "source": [
        "#### Loading Frames"
      ]
    },
    {
      "cell_type": "code",
      "execution_count": null,
      "id": "9989bdab-245a-4c67-bc3e-c2067e9a72ab",
      "metadata": {
        "execution": {
          "iopub.execute_input": "2023-03-08T04:08:37.519762Z",
          "iopub.status.busy": "2023-03-08T04:08:37.519393Z",
          "iopub.status.idle": "2023-03-08T04:08:37.581165Z",
          "shell.execute_reply": "2023-03-08T04:08:37.580447Z",
          "shell.execute_reply.started": "2023-03-08T04:08:37.519727Z"
        },
        "id": "9989bdab-245a-4c67-bc3e-c2067e9a72ab"
      },
      "outputs": [],
      "source": [
        "import glob\n",
        "\n",
        "frames = []\n",
        "\n",
        "for file_path in sorted(glob.glob(f'{frames_path}/*.png', recursive = False)):\n",
        "    img = cv2.imread(file_path)\n",
        "    img = cv2.cvtColor(img, cv2.COLOR_BGR2RGB)\n",
        "\n",
        "    img = np.asarray(img, dtype=np.float64)\n",
        "    img /= 255.0\n",
        "\n",
        "    frames.append(img)\n",
        "\n",
        "frames = np.asarray(frames, dtype=np.float64)"
      ]
    },
    {
      "cell_type": "markdown",
      "id": "d3e589fc-902a-419d-8c9a-13311fcab7ea",
      "metadata": {
        "jp-MarkdownHeadingCollapsed": true,
        "tags": [],
        "id": "d3e589fc-902a-419d-8c9a-13311fcab7ea"
      },
      "source": [
        "#### Splitting the data"
      ]
    },
    {
      "cell_type": "code",
      "execution_count": null,
      "id": "f859993a-2b29-4baf-a168-117151ed240b",
      "metadata": {
        "execution": {
          "iopub.execute_input": "2023-03-08T04:08:37.582241Z",
          "iopub.status.busy": "2023-03-08T04:08:37.581978Z",
          "iopub.status.idle": "2023-03-08T04:08:37.596804Z",
          "shell.execute_reply": "2023-03-08T04:08:37.595584Z",
          "shell.execute_reply.started": "2023-03-08T04:08:37.582220Z"
        },
        "colab": {
          "base_uri": "https://localhost:8080/"
        },
        "id": "f859993a-2b29-4baf-a168-117151ed240b",
        "outputId": "790e54c1-110c-458b-bb6c-56c6b4d574b2"
      },
      "outputs": [
        {
          "output_type": "stream",
          "name": "stdout",
          "text": [
            "frame: (80, 120, 160, 3)\n",
            "train_frames: (48, 120, 160, 3)\n",
            "test_frames: (32, 120, 160, 3)\n"
          ]
        }
      ],
      "source": [
        "from sklearn.model_selection import train_test_split\n",
        "\n",
        "print(f'frame: {frames.shape}')\n",
        "\n",
        "train_frames, test_frames = train_test_split(frames, train_size=0.6, shuffle=False) # Do Not Shuffle!\n",
        "\n",
        "print(f'train_frames: {train_frames.shape}')\n",
        "print(f'test_frames: {test_frames.shape}')"
      ]
    },
    {
      "cell_type": "markdown",
      "id": "7ec3f0d8",
      "metadata": {
        "id": "7ec3f0d8"
      },
      "source": [
        "Note: You may use helper libraries like `imageio` for working with GIFs.\n",
        "\n",
        "```python\n",
        "import imageio\n",
        "\n",
        "def make_gif(img_list, gif_path, fps=10):\n",
        "    imageio.mimsave(gif_path, img_list, fps=fps)\n",
        "    return\n",
        "```"
      ]
    },
    {
      "cell_type": "markdown",
      "id": "7cebb520-1657-432d-959d-eec893cb9b44",
      "metadata": {
        "jp-MarkdownHeadingCollapsed": true,
        "tags": [],
        "id": "7cebb520-1657-432d-959d-eec893cb9b44"
      },
      "source": [
        "#### Frame Averaging\n",
        "\n",
        "Extract Background Image from the training data and display it."
      ]
    },
    {
      "cell_type": "code",
      "execution_count": null,
      "id": "2d08a0a6-770f-462a-8418-a63b6ffec5a0",
      "metadata": {
        "id": "2d08a0a6-770f-462a-8418-a63b6ffec5a0"
      },
      "outputs": [],
      "source": []
    },
    {
      "cell_type": "markdown",
      "id": "17b08135-acc3-4a7f-8d9e-11d9d2e15507",
      "metadata": {
        "jp-MarkdownHeadingCollapsed": true,
        "tags": [],
        "id": "17b08135-acc3-4a7f-8d9e-11d9d2e15507"
      },
      "source": [
        "#### GMMs per pixel\n",
        "\n",
        "Create Set of GMMs for every pixel and fit them considering every training frame"
      ]
    },
    {
      "cell_type": "code",
      "execution_count": null,
      "id": "630bb208-e186-4892-aea3-41082bd52789",
      "metadata": {
        "execution": {
          "iopub.execute_input": "2023-03-08T07:55:43.637039Z",
          "iopub.status.busy": "2023-03-08T07:55:43.635874Z",
          "iopub.status.idle": "2023-03-08T07:55:43.646623Z",
          "shell.execute_reply": "2023-03-08T07:55:43.644632Z",
          "shell.execute_reply.started": "2023-03-08T07:55:43.636977Z"
        },
        "tags": [],
        "id": "630bb208-e186-4892-aea3-41082bd52789"
      },
      "outputs": [],
      "source": []
    },
    {
      "cell_type": "markdown",
      "id": "b046f7c9-1950-4704-a62a-f0f27079f95d",
      "metadata": {
        "jp-MarkdownHeadingCollapsed": true,
        "tags": [],
        "id": "b046f7c9-1950-4704-a62a-f0f27079f95d"
      },
      "source": [
        "#### Extract Background Image from the trained model"
      ]
    },
    {
      "cell_type": "code",
      "execution_count": null,
      "id": "511078b9-35a9-4712-9e54-a7248187c7e6",
      "metadata": {
        "execution": {
          "iopub.execute_input": "2023-03-08T07:55:43.637039Z",
          "iopub.status.busy": "2023-03-08T07:55:43.635874Z",
          "iopub.status.idle": "2023-03-08T07:55:43.646623Z",
          "shell.execute_reply": "2023-03-08T07:55:43.644632Z",
          "shell.execute_reply.started": "2023-03-08T07:55:43.636977Z"
        },
        "tags": [],
        "colab": {
          "base_uri": "https://localhost:8080/",
          "height": 428
        },
        "id": "511078b9-35a9-4712-9e54-a7248187c7e6",
        "outputId": "d58f47e6-4882-4e03-a14f-28be54895a74"
      },
      "outputs": [
        {
          "output_type": "display_data",
          "data": {
            "text/plain": [
              "<Figure size 640x480 with 1 Axes>"
            ],
            "image/png": "[encoded data removed]"
          },
          "metadata": {}
        }
      ],
      "source": [
        "import numpy as np\n",
        "import matplotlib.pyplot as plt\n",
        "\n",
        "height, width, channels = train_frames.shape[1], train_frames.shape[2], train_frames.shape[3]\n",
        "background_imagef = np.zeros((height, width, channels), dtype=np.float32)\n",
        "\n",
        "for frame in train_frames:\n",
        "    background_imagef += frame.astype(np.float32)\n",
        "\n",
        "background_imagef /= len(train_frames)\n",
        "\n",
        "background_image_scaled = (background_imagef * 255).astype(np.uint8)\n",
        "background_image_frame_avg = background_imagef\n",
        "plt.imshow(background_image_scaled)\n",
        "plt.title(\"Background Image from Frame Averaging\")\n",
        "plt.axis('off')\n",
        "plt.show()\n"
      ]
    },
    {
      "cell_type": "code",
      "source": [
        "print(train_frames.shape)"
      ],
      "metadata": {
        "id": "7Y8Qb1jM6i-w",
        "colab": {
          "base_uri": "https://localhost:8080/"
        },
        "outputId": "c6d29bf9-532f-4f5a-c724-8af2aced6beb"
      },
      "id": "7Y8Qb1jM6i-w",
      "execution_count": null,
      "outputs": [
        {
          "output_type": "stream",
          "name": "stdout",
          "text": [
            "(48, 120, 160, 3)\n"
          ]
        }
      ]
    },
    {
      "cell_type": "code",
      "source": [
        "height, width, channels = train_frames.shape[1], train_frames.shape[2], train_frames.shape[3]\n",
        "background_image = np.zeros((height, width, channels))\n",
        "\n",
        "\n",
        "from sklearn.mixture import GaussianMixture\n",
        "\n",
        "for i in range(height):\n",
        "    for j in range(width):\n",
        "        pixel_values = train_frames[:, i, j, :]\n",
        "\n",
        "        gmm = GaussianMixture2(n_components=2, covariance_type='full', random_state=0)\n",
        "        gmm.fit(pixel_values)\n",
        "\n",
        "        background_idx = np.argmax(gmm.weights_)\n",
        "        background_color = gmm.means_[background_idx]\n",
        "\n",
        "        background_image[i, j, :] = background_color\n",
        "\n",
        "plt.imshow(background_image)\n",
        "plt.title(\"Background Image from GMM\")\n",
        "plt.axis('off')\n",
        "plt.show()\n",
        "\n"
      ],
      "metadata": {
        "colab": {
          "base_uri": "https://localhost:8080/",
          "height": 428
        },
        "id": "XXdHsGiRzBTU",
        "outputId": "e8019edc-6d02-4f03-d39b-a79e463e1f70"
      },
      "id": "XXdHsGiRzBTU",
      "execution_count": null,
      "outputs": [
        {
          "output_type": "display_data",
          "data": {
            "text/plain": [
              "<Figure size 640x480 with 1 Axes>"
            ],
            "image/png": "[encoded data removed]"
          },
          "metadata": {}
        }
      ]
    },
    {
      "cell_type": "markdown",
      "id": "898f029f-c0d6-4c33-b096-dedf4b389295",
      "metadata": {
        "jp-MarkdownHeadingCollapsed": true,
        "tags": [],
        "id": "898f029f-c0d6-4c33-b096-dedf4b389295"
      },
      "source": [
        "### Outputs\n",
        "\n",
        "You can use the helper functions given below to display and save frames as videos, feel free to change them accordingly."
      ]
    },
    {
      "cell_type": "code",
      "execution_count": null,
      "id": "7013953b-371b-4111-ba54-cd630b64bec6",
      "metadata": {
        "execution": {
          "iopub.execute_input": "2023-03-08T04:14:25.992340Z",
          "iopub.status.busy": "2023-03-08T04:14:25.991943Z",
          "iopub.status.idle": "2023-03-08T04:14:26.000713Z",
          "shell.execute_reply": "2023-03-08T04:14:25.999863Z",
          "shell.execute_reply.started": "2023-03-08T04:14:25.992307Z"
        },
        "tags": [],
        "id": "7013953b-371b-4111-ba54-cd630b64bec6"
      },
      "outputs": [],
      "source": [
        "\n",
        "def display_frames(frames, fps=10.0):\n",
        "    \"\"\"\n",
        "    Display the frames as a video.\n",
        "    \"\"\"\n",
        "    eps = 0.0001\n",
        "\n",
        "    wait_time = int(1000 // fps)\n",
        "\n",
        "    for frame in frames:\n",
        "        frame = frame.astype(np.float64)\n",
        "        frame = (frame - frame.min()) * 255 / (frame.max() - frame.min() + eps)\n",
        "        frame = frame.astype(np.uint8)\n",
        "\n",
        "        frame = cv2.cvtColor(frame, cv2.COLOR_RGB2BGR)\n",
        "\n",
        "        cv2_imshow(frame)\n",
        "        k = cv2.waitKey(wait_time)\n",
        "\n",
        "        if k == ord('q'):\n",
        "            print(\"Quitting...\")\n",
        "            break\n",
        "\n",
        "    cv2.destroyAllWindows()\n",
        "\n",
        "\n",
        "def save_frames(frames, fps=10.0, output_path='./results', file_name='temp'):\n",
        "    \"\"\"\n",
        "    Save the frames as a video.\n",
        "    \"\"\"\n",
        "    eps = 0.0001\n",
        "\n",
        "    frame_rate = float(fps)\n",
        "    frame_size = (int(frames[0].shape[1]), int(frames[0].shape[0]))\n",
        "    wait_time = int(1000 // fps)\n",
        "\n",
        "    fourcc = cv2.VideoWriter_fourcc(*'mp4v')\n",
        "\n",
        "    save_path = os.path.join(output_path, f\"{file_name.rsplit('.', 1)[0]}.mp4\")\n",
        "\n",
        "    vid_wrt = cv2.VideoWriter(save_path, fourcc, frame_rate, frame_size)\n",
        "\n",
        "    for frame in frames:\n",
        "        frame = frame.astype(np.float64)\n",
        "        frame = (frame - frame.min()) * 255 / (frame.max() - frame.min() + eps)\n",
        "        frame = frame.astype(np.uint8)\n",
        "\n",
        "        frame = cv2.cvtColor(frame, cv2.COLOR_RGB2BGR)\n",
        "\n",
        "        cv2_imshow(frame)\n",
        "        if cv2.waitKey(wait_time) & 0xFF == ord('q'):\n",
        "            break\n",
        "\n",
        "        vid_wrt.write(frame)\n",
        "\n",
        "\n",
        "    vid_wrt.release()\n",
        "    cv2.destroyAllWindows()"
      ]
    },
    {
      "cell_type": "markdown",
      "id": "68505dec-141f-463d-be72-020fca8e98da",
      "metadata": {
        "jp-MarkdownHeadingCollapsed": true,
        "tags": [],
        "id": "68505dec-141f-463d-be72-020fca8e98da"
      },
      "source": [
        "#### Frame Averaging"
      ]
    },
    {
      "cell_type": "code",
      "execution_count": null,
      "id": "797fa50a-8d81-4afa-affd-68bb9a10cb6d",
      "metadata": {
        "execution": {
          "iopub.execute_input": "2023-03-08T07:55:43.637039Z",
          "iopub.status.busy": "2023-03-08T07:55:43.635874Z",
          "iopub.status.idle": "2023-03-08T07:55:43.646623Z",
          "shell.execute_reply": "2023-03-08T07:55:43.644632Z",
          "shell.execute_reply.started": "2023-03-08T07:55:43.636977Z"
        },
        "tags": [],
        "colab": {
          "base_uri": "https://localhost:8080/",
          "height": 1000
        },
        "id": "797fa50a-8d81-4afa-affd-68bb9a10cb6d",
        "outputId": "223384d6-b235-43cf-eef8-2b6b7e91814f"
      },
      "outputs": [
        {
          "output_type": "display_data",
          "data": {
            "text/plain": [
              "<PIL.Image.Image image mode=RGB size=160x120>"
            ],
            "image/png": "[encoded data removed]"
          },
          "metadata": {}
        },
        {
          "output_type": "display_data",
          "data": {
            "text/plain": [
              "<PIL.Image.Image image mode=RGB size=160x120>"
            ],
            "image/png": "[encoded data removed]"
          },
          "metadata": {}
        },
        {
          "output_type": "display_data",
          "data": {
            "text/plain": [
              "<PIL.Image.Image image mode=RGB size=160x120>"
            ],
            "image/png": "[encoded data removed]"
          },
          "metadata": {}
        },
        {
          "output_type": "display_data",
          "data": {
            "text/plain": [
              "<PIL.Image.Image image mode=RGB size=160x120>"
            ],
            "image/png": "[encoded data removed]"
          },
          "metadata": {}
        },
        {
          "output_type": "display_data",
          "data": {
            "text/plain": [
              "<PIL.Image.Image image mode=RGB size=160x120>"
            ],
            "image/png": "[encoded data removed]"
          },
          "metadata": {}
        },
        {
          "output_type": "display_data",
          "data": {
            "text/plain": [
              "<PIL.Image.Image image mode=RGB size=160x120>"
            ],
            "image/png": "[encoded data removed]"
          },
          "metadata": {}
        },
        {
          "output_type": "display_data",
          "data": {
            "text/plain": [
              "<PIL.Image.Image image mode=RGB size=160x120>"
            ],
            "image/png": "[encoded data removed]"
          },
          "metadata": {}
        },
        {
          "output_type": "display_data",
          "data": {
            "text/plain": [
              "<PIL.Image.Image image mode=RGB size=160x120>"
            ],
            "image/png": "[encoded data removed]"
          },
          "metadata": {}
        },
        {
          "output_type": "display_data",
          "data": {
            "text/plain": [
              "<PIL.Image.Image image mode=RGB size=160x120>"
            ],
            "image/png": "[encoded data removed]"
          },
          "metadata": {}
        },
        {
          "output_type": "display_data",
          "data": {
            "text/plain": [
              "<PIL.Image.Image image mode=RGB size=160x120>"
            ],
            "image/png": "[encoded data removed]"
          },
          "metadata": {}
        },
        {
          "output_type": "display_data",
          "data": {
            "text/plain": [
              "<PIL.Image.Image image mode=RGB size=160x120>"
            ],
            "image/png": "[encoded data removed]"
          },
          "metadata": {}
        },
        {
          "output_type": "display_data",
          "data": {
            "text/plain": [
              "<PIL.Image.Image image mode=RGB size=160x120>"
            ],
            "image/png": "[encoded data removed]"
          },
          "metadata": {}
        },
        {
          "output_type": "display_data",
          "data": {
            "text/plain": [
              "<PIL.Image.Image image mode=RGB size=160x120>"
            ],
            "image/png": "[encoded data removed]"
          },
          "metadata": {}
        },
        {
          "output_type": "display_data",
          "data": {
            "text/plain": [
              "<PIL.Image.Image image mode=RGB size=160x120>"
            ],
            "image/png": "[encoded data removed]"
          },
          "metadata": {}
        },
        {
          "output_type": "display_data",
          "data": {
            "text/plain": [
              "<PIL.Image.Image image mode=RGB size=160x120>"
            ],
            "image/png": "[encoded data removed]"
          },
          "metadata": {}
        },
        {
          "output_type": "display_data",
          "data": {
            "text/plain": [
              "<PIL.Image.Image image mode=RGB size=160x120>"
            ],
            "image/png": "[encoded data removed]"
          },
          "metadata": {}
        },
        {
          "output_type": "display_data",
          "data": {
            "text/plain": [
              "<PIL.Image.Image image mode=RGB size=160x120>"
            ],
            "image/png": "[encoded data removed]"
          },
          "metadata": {}
        },
        {
          "output_type": "display_data",
          "data": {
            "text/plain": [
              "<PIL.Image.Image image mode=RGB size=160x120>"
            ],
            "image/png": "[encoded data removed]"
          },
          "metadata": {}
        },
        {
          "output_type": "display_data",
          "data": {
            "text/plain": [
              "<PIL.Image.Image image mode=RGB size=160x120>"
            ],
            "image/png": "[encoded data removed]"
          },
          "metadata": {}
        },
        {
          "output_type": "display_data",
          "data": {
            "text/plain": [
              "<PIL.Image.Image image mode=RGB size=160x120>"
            ],
            "image/png": "[encoded data removed]"
          },
          "metadata": {}
        },
        {
          "output_type": "display_data",
          "data": {
            "text/plain": [
              "<PIL.Image.Image image mode=RGB size=160x120>"
            ],
            "image/png": "[encoded data removed]"
          },
          "metadata": {}
        },
        {
          "output_type": "display_data",
          "data": {
            "text/plain": [
              "<PIL.Image.Image image mode=RGB size=160x120>"
            ],
            "image/png": "[encoded data removed]"
          },
          "metadata": {}
        },
        {
          "output_type": "display_data",
          "data": {
            "text/plain": [
              "<PIL.Image.Image image mode=RGB size=160x120>"
            ],
            "image/png": "[encoded data removed]"
          },
          "metadata": {}
        },
        {
          "output_type": "display_data",
          "data": {
            "text/plain": [
              "<PIL.Image.Image image mode=RGB size=160x120>"
            ],
            "image/png": "[encoded data removed]"
          },
          "metadata": {}
        },
        {
          "output_type": "display_data",
          "data": {
            "text/plain": [
              "<PIL.Image.Image image mode=RGB size=160x120>"
            ],
            "image/png": "[encoded data removed]"
          },
          "metadata": {}
        },
        {
          "output_type": "display_data",
          "data": {
            "text/plain": [
              "<PIL.Image.Image image mode=RGB size=160x120>"
            ],
            "image/png": "[encoded data removed]"
          },
          "metadata": {}
        },
        {
          "output_type": "display_data",
          "data": {
            "text/plain": [
              "<PIL.Image.Image image mode=RGB size=160x120>"
            ],
            "image/png": "[encoded data removed]"
          },
          "metadata": {}
        },
        {
          "output_type": "display_data",
          "data": {
            "text/plain": [
              "<PIL.Image.Image image mode=RGB size=160x120>"
            ],
            "image/png": "[encoded data removed]"
          },
          "metadata": {}
        },
        {
          "output_type": "display_data",
          "data": {
            "text/plain": [
              "<PIL.Image.Image image mode=RGB size=160x120>"
            ],
            "image/png": "[encoded data removed]"
          },
          "metadata": {}
        },
        {
          "output_type": "display_data",
          "data": {
            "text/plain": [
              "<PIL.Image.Image image mode=RGB size=160x120>"
            ],
            "image/png": "[encoded data removed]"
          },
          "metadata": {}
        },
        {
          "output_type": "display_data",
          "data": {
            "text/plain": [
              "<PIL.Image.Image image mode=RGB size=160x120>"
            ],
            "image/png": "[encoded data removed]"
          },
          "metadata": {}
        },
        {
          "output_type": "display_data",
          "data": {
            "text/plain": [
              "<PIL.Image.Image image mode=RGB size=160x120>"
            ],
            "image/png": "[encoded data removed]"
          },
          "metadata": {}
        }
      ],
      "source": [
        "# Initialize an array to hold the processed frames\n",
        "processed_frames = np.zeros_like(test_frames)\n",
        "\n",
        "for idx, frame in enumerate(test_frames):\n",
        "    # Subtract the background image from the current frame\n",
        "    # print(frame)\n",
        "    diff = frame - background_image_frame_avg\n",
        "\n",
        "    # Apply a threshold to highlight the foreground\n",
        "    diff_threshold = np.where(diff > 0.2, 1, 0)  # Example threshold value, adjust as needed\n",
        "\n",
        "    # Store the processed frame\n",
        "    processed_frames[idx] = diff_threshold\n",
        "save_frames(processed_frames, fps=10.0, output_path='./results', file_name='foreground_extraction_frame_avg')\n"
      ]
    },
    {
      "cell_type": "markdown",
      "id": "c58c5b0f-9e30-44f6-88dc-8efb91e588a6",
      "metadata": {
        "jp-MarkdownHeadingCollapsed": true,
        "tags": [],
        "id": "c58c5b0f-9e30-44f6-88dc-8efb91e588a6"
      },
      "source": [
        "#### GMMs per pixel"
      ]
    },
    {
      "cell_type": "code",
      "execution_count": null,
      "id": "0603479f-0bb2-4cab-94c0-9576b99ee0cc",
      "metadata": {
        "execution": {
          "iopub.execute_input": "2023-03-08T07:55:43.637039Z",
          "iopub.status.busy": "2023-03-08T07:55:43.635874Z",
          "iopub.status.idle": "2023-03-08T07:55:43.646623Z",
          "shell.execute_reply": "2023-03-08T07:55:43.644632Z",
          "shell.execute_reply.started": "2023-03-08T07:55:43.636977Z"
        },
        "tags": [],
        "colab": {
          "base_uri": "https://localhost:8080/",
          "height": 1000
        },
        "id": "0603479f-0bb2-4cab-94c0-9576b99ee0cc",
        "outputId": "f3879e97-b507-4d99-fb3d-9868cdb3d556"
      },
      "outputs": [
        {
          "output_type": "display_data",
          "data": {
            "text/plain": [
              "<PIL.Image.Image image mode=RGB size=160x120>"
            ],
            "image/png": "[encoded data removed]"
          },
          "metadata": {}
        },
        {
          "output_type": "display_data",
          "data": {
            "text/plain": [
              "<PIL.Image.Image image mode=RGB size=160x120>"
            ],
            "image/png": "[encoded data removed]"
          },
          "metadata": {}
        },
        {
          "output_type": "display_data",
          "data": {
            "text/plain": [
              "<PIL.Image.Image image mode=RGB size=160x120>"
            ],
            "image/png": "[encoded data removed]"
          },
          "metadata": {}
        },
        {
          "output_type": "display_data",
          "data": {
            "text/plain": [
              "<PIL.Image.Image image mode=RGB size=160x120>"
            ],
            "image/png": "[encoded data removed]"
          },
          "metadata": {}
        },
        {
          "output_type": "display_data",
          "data": {
            "text/plain": [
              "<PIL.Image.Image image mode=RGB size=160x120>"
            ],
            "image/png": "[encoded data removed]"
          },
          "metadata": {}
        },
        {
          "output_type": "display_data",
          "data": {
            "text/plain": [
              "<PIL.Image.Image image mode=RGB size=160x120>"
            ],
            "image/png": "[encoded data removed]"
          },
          "metadata": {}
        },
        {
          "output_type": "display_data",
          "data": {
            "text/plain": [
              "<PIL.Image.Image image mode=RGB size=160x120>"
            ],
            "image/png": "[encoded data removed]"
          },
          "metadata": {}
        },
        {
          "output_type": "display_data",
          "data": {
            "text/plain": [
              "<PIL.Image.Image image mode=RGB size=160x120>"
            ],
            "image/png": "[encoded data removed]"
          },
          "metadata": {}
        },
        {
          "output_type": "display_data",
          "data": {
            "text/plain": [
              "<PIL.Image.Image image mode=RGB size=160x120>"
            ],
            "image/png": "[encoded data removed]"
          },
          "metadata": {}
        },
        {
          "output_type": "display_data",
          "data": {
            "text/plain": [
              "<PIL.Image.Image image mode=RGB size=160x120>"
            ],
            "image/png": "[encoded data removed]"
          },
          "metadata": {}
        },
        {
          "output_type": "display_data",
          "data": {
            "text/plain": [
              "<PIL.Image.Image image mode=RGB size=160x120>"
            ],
            "image/png": "[encoded data removed]"
          },
          "metadata": {}
        },
        {
          "output_type": "display_data",
          "data": {
            "text/plain": [
              "<PIL.Image.Image image mode=RGB size=160x120>"
            ],
            "image/png": "[encoded data removed]"
          },
          "metadata": {}
        },
        {
          "output_type": "display_data",
          "data": {
            "text/plain": [
              "<PIL.Image.Image image mode=RGB size=160x120>"
            ],
            "image/png": "[encoded data removed]"
          },
          "metadata": {}
        },
        {
          "output_type": "display_data",
          "data": {
            "text/plain": [
              "<PIL.Image.Image image mode=RGB size=160x120>"
            ],
            "image/png": "[encoded data removed]"
          },
          "metadata": {}
        },
        {
          "output_type": "display_data",
          "data": {
            "text/plain": [
              "<PIL.Image.Image image mode=RGB size=160x120>"
            ],
            "image/png": "[encoded data removed]"
          },
          "metadata": {}
        },
        {
          "output_type": "display_data",
          "data": {
            "text/plain": [
              "<PIL.Image.Image image mode=RGB size=160x120>"
            ],
            "image/png": "[encoded data removed]"
          },
          "metadata": {}
        },
        {
          "output_type": "display_data",
          "data": {
            "text/plain": [
              "<PIL.Image.Image image mode=RGB size=160x120>"
            ],
            "image/png": "[encoded data removed]"
          },
          "metadata": {}
        },
        {
          "output_type": "display_data",
          "data": {
            "text/plain": [
              "<PIL.Image.Image image mode=RGB size=160x120>"
            ],
            "image/png": "[encoded data removed]"
          },
          "metadata": {}
        },
        {
          "output_type": "display_data",
          "data": {
            "text/plain": [
              "<PIL.Image.Image image mode=RGB size=160x120>"
            ],
            "image/png": "[encoded data removed]"
          },
          "metadata": {}
        },
        {
          "output_type": "display_data",
          "data": {
            "text/plain": [
              "<PIL.Image.Image image mode=RGB size=160x120>"
            ],
            "image/png": "[encoded data removed]"
          },
          "metadata": {}
        },
        {
          "output_type": "display_data",
          "data": {
            "text/plain": [
              "<PIL.Image.Image image mode=RGB size=160x120>"
            ],
            "image/png": "[encoded data removed]"
          },
          "metadata": {}
        },
        {
          "output_type": "display_data",
          "data": {
            "text/plain": [
              "<PIL.Image.Image image mode=RGB size=160x120>"
            ],
            "image/png": "[encoded data removed]"
          },
          "metadata": {}
        },
        {
          "output_type": "display_data",
          "data": {
            "text/plain": [
              "<PIL.Image.Image image mode=RGB size=160x120>"
            ],
            "image/png": "[encoded data removed]"
          },
          "metadata": {}
        },
        {
          "output_type": "display_data",
          "data": {
            "text/plain": [
              "<PIL.Image.Image image mode=RGB size=160x120>"
            ],
            "image/png": "[encoded data removed]"
          },
          "metadata": {}
        },
        {
          "output_type": "display_data",
          "data": {
            "text/plain": [
              "<PIL.Image.Image image mode=RGB size=160x120>"
            ],
            "image/png": "[encoded data removed]"
          },
          "metadata": {}
        },
        {
          "output_type": "display_data",
          "data": {
            "text/plain": [
              "<PIL.Image.Image image mode=RGB size=160x120>"
            ],
            "image/png": "[encoded data removed]"
          },
          "metadata": {}
        },
        {
          "output_type": "display_data",
          "data": {
            "text/plain": [
              "<PIL.Image.Image image mode=RGB size=160x120>"
            ],
            "image/png": "[encoded data removed]"
          },
          "metadata": {}
        },
        {
          "output_type": "display_data",
          "data": {
            "text/plain": [
              "<PIL.Image.Image image mode=RGB size=160x120>"
            ],
            "image/png": "[encoded data removed]"
          },
          "metadata": {}
        },
        {
          "output_type": "display_data",
          "data": {
            "text/plain": [
              "<PIL.Image.Image image mode=RGB size=160x120>"
            ],
            "image/png": "[encoded data removed]"
          },
          "metadata": {}
        },
        {
          "output_type": "display_data",
          "data": {
            "text/plain": [
              "<PIL.Image.Image image mode=RGB size=160x120>"
            ],
            "image/png": "[encoded data removed]"
          },
          "metadata": {}
        },
        {
          "output_type": "display_data",
          "data": {
            "text/plain": [
              "<PIL.Image.Image image mode=RGB size=160x120>"
            ],
            "image/png": "[encoded data removed]"
          },
          "metadata": {}
        },
        {
          "output_type": "display_data",
          "data": {
            "text/plain": [
              "<PIL.Image.Image image mode=RGB size=160x120>"
            ],
            "image/png": "[encoded data removed]"
          },
          "metadata": {}
        }
      ],
      "source": [
        "# Initialize an array to hold the processed frames\n",
        "processed_frames = np.zeros_like(test_frames)\n",
        "\n",
        "for idx, frame in enumerate(test_frames):\n",
        "    # Subtract the background image from the current frame\n",
        "    diff = frame - background_image\n",
        "\n",
        "    # Apply a threshold to highlight the foreground\n",
        "    diff_threshold = np.where(diff > 0.2, 1, 0)  # Example threshold value, adjust as needed\n",
        "\n",
        "    # Store the processed frame\n",
        "    processed_frames[idx] = diff_threshold\n",
        "save_frames(processed_frames, fps=10.0, output_path='./results', file_name='foreground_extraction_gmm')\n"
      ]
    }
  ],
  "metadata": {
    "kernelspec": {
      "display_name": "Python [conda env:smai]",
      "language": "python",
      "name": "conda-env-smai-py"
    },
    "language_info": {
      "codemirror_mode": {
        "name": "ipython",
        "version": 3
      },
      "file_extension": ".py",
      "mimetype": "text/x-python",
      "name": "python",
      "nbconvert_exporter": "python",
      "pygments_lexer": "ipython3",
      "version": "3.10.8"
    },
    "colab": {
      "provenance": []
    }
  },
  "nbformat": 4,
  "nbformat_minor": 5
}